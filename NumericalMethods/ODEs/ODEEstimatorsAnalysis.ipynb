{
 "cells": [
  {
   "cell_type": "code",
   "execution_count": 11,
   "metadata": {},
   "outputs": [],
   "source": [
    "import numpy as np\n",
    "from math import sin, atan, tan, cos, log\n",
    "import matplotlib.pyplot as plt"
   ]
  },
  {
   "cell_type": "code",
   "execution_count": 12,
   "metadata": {},
   "outputs": [
    {
     "data": {
      "text/plain": [
       "9"
      ]
     },
     "execution_count": 12,
     "metadata": {},
     "output_type": "execute_result"
    }
   ],
   "source": []
  },
  {
   "cell_type": "markdown",
   "metadata": {},
   "source": [
    "## Helper methods"
   ]
  },
  {
   "cell_type": "code",
   "execution_count": 2,
   "metadata": {},
   "outputs": [],
   "source": [
    "# First, a wrapper method that takes a function for finding yn+1 \n",
    "# given yn and other pertinent data and gets the t and y vectors\n",
    "def get_method_results( method_f, yprime, a, b, y0, n ):\n",
    "    h = (b-a)/n\n",
    "    # Use the generator method below \n",
    "    method = method_gen( method_f, yprime, a, y0, h )\n",
    "    # And pull the ts and ys from it\n",
    "    t0, y0 = next(method)\n",
    "    ts = [t0]\n",
    "    ys = [y0]\n",
    "    while len(ts) <= n:\n",
    "        tn, yn = next(method)\n",
    "        ts.append(tn)\n",
    "        ys.append(yn)\n",
    "    return ts, ys\n",
    "\n",
    "# This is a method that takes a method for calculating a new y and returns a generator\n",
    "def method_gen( method, y_prime, t0, y0, h ):\n",
    "    current_y = y0\n",
    "    current_t = t0\n",
    "    while True:\n",
    "        yield (current_t, current_y)\n",
    "        current_y = method(y_prime, current_y, current_t, h)\n",
    "        current_t = current_t + h"
   ]
  },
  {
   "cell_type": "markdown",
   "metadata": {},
   "source": [
    "## Problem 1"
   ]
  },
  {
   "cell_type": "code",
   "execution_count": 13,
   "metadata": {},
   "outputs": [],
   "source": [
    "# Then, defining a method is as simple as creating a method with the right signature\n",
    "def forward_euler_method(y_prime, current_y, current_t, h):\n",
    "    return current_y + h * y_prime( current_t, current_y )\n",
    "\n",
    "# Wrap it with a convenience funtion, and we're done\n",
    "def forward_euler(y_prime, a, b, y0, n = 100):\n",
    "    return get_method_results( forward_euler_method, y_prime, a, b, y0, n )"
   ]
  },
  {
   "cell_type": "markdown",
   "metadata": {},
   "source": [
    "## Problem 2"
   ]
  },
  {
   "cell_type": "code",
   "execution_count": 4,
   "metadata": {},
   "outputs": [],
   "source": [
    "def RK4_method(y_prime, current_y, current_t, h):\n",
    "    k1 = y_prime( current_t, current_y )\n",
    "    k2 = y_prime( current_t + h/2, current_y + h*k1/2 )\n",
    "    k3 = y_prime( current_t + h/2, current_y + h*k2/2 )\n",
    "    k4 = y_prime( current_t + h, current_y + h*k3)\n",
    "    return current_y + h / 6 * (k1 + 2*k2 + 2*k3 + k4)\n",
    "\n",
    "# Wrap it with a convenience funtion, like above\n",
    "def RK4(y_prime, a, b, y0, n = 100):\n",
    "    return get_method_results( RK4_method, y_prime, a, b, y0, n )"
   ]
  },
  {
   "cell_type": "markdown",
   "metadata": {},
   "source": [
    "## Problem 3"
   ]
  },
  {
   "cell_type": "code",
   "execution_count": 19,
   "metadata": {},
   "outputs": [],
   "source": [
    "# For Backwards Euler, we need newtons method. Let's copy the code from project 2 here. \n",
    "def newtons_guesses( f, f_prime, x0 ):\n",
    "    current_x = x0;\n",
    "    while True:\n",
    "        yield current_x\n",
    "        next_x = current_x - (f(current_x) / f_prime(current_x))\n",
    "        current_x = next_x\n",
    "\n",
    "def newtons_method( f, f_prime, x0, tol=1.0e-5, ittr_max=100 ):\n",
    "    guesses = newtons_guesses( f, f_prime, x0 )\n",
    "    ittr_count = 1\n",
    "    current_guess = next(guesses) # it yields x0 first\n",
    "    next_guess = next(guesses)\n",
    "    while (np.abs(next_guess - current_guess) > tol \n",
    "           and ittr_count < ittr_max):\n",
    "        #print( current_guess )\n",
    "        current_guess = next_guess\n",
    "        next_guess = next(guesses)\n",
    "        ittr_count += 1\n",
    "    return next_guess"
   ]
  },
  {
   "cell_type": "code",
   "execution_count": 25,
   "metadata": {},
   "outputs": [
    {
     "name": "stdout",
     "output_type": "stream",
     "text": [
      "9.5367431640625e-06\n",
      "1.738365016948853e-05\n"
     ]
    }
   ],
   "source": [
    "def squared( x ):\n",
    "    return x ** 2\n",
    "\n",
    "def squared_prime( x ):\n",
    "    return 2 * x\n",
    "\n",
    "print( newtons_method( squared, squared_prime, 5) )\n",
    "print( newtons_method( lambda x : x**3, lambda x : 3 * x ** 2, 5) )"
   ]
  },
  {
   "cell_type": "code",
   "execution_count": 6,
   "metadata": {},
   "outputs": [],
   "source": [
    "# This is a bit of a hack, but it alows us to use the above code by creating\n",
    "# the BE method at creation time, and passing in the y_prime_dy function. We\n",
    "# can then wrap it in a lambda to perserve the scope when this is evaluated.\n",
    "# Now if only python supported multi-line lambdas, this wouldn't look like \n",
    "# such a mess *rages*\n",
    "def build_BE_method( y_prime_dy ):\n",
    "    return lambda y_prime, current_y, current_t, h : newtons_method( \n",
    "        get_f( current_y, h, y_prime, current_t + h), \n",
    "        get_f_prime( h, y_prime_dy, current_t + h ), \n",
    "        current_y,\n",
    "        tol = 10e-7,\n",
    "        ittr_max = 100\n",
    "    )\n",
    "\n",
    "# This generates the non-linear function to solve in the BE method\n",
    "def get_f(current_y, h, y_prime, next_t):\n",
    "    return lambda x: current_y - x + h * y_prime(next_t, x)\n",
    "\n",
    "# This is the derivative of that non-linear function, needed for Newtons method\n",
    "def get_f_prime(h, y_prime_dy, next_t):\n",
    "    return lambda x: h * y_prime_dy(next_t, x) - 1\n",
    "\n",
    "# Wrap it with a convenience funtion, and we're done\n",
    "def backward_euler(y_prime, y_prime_dy, a, b, y0, n = 100):\n",
    "    return get_method_results( build_BE_method(y_prime_dy), y_prime, a, b, y0, n )"
   ]
  },
  {
   "cell_type": "markdown",
   "metadata": {},
   "source": [
    "## Problem 4"
   ]
  },
  {
   "cell_type": "code",
   "execution_count": 7,
   "metadata": {},
   "outputs": [],
   "source": [
    "# First, we define a bunch of methods that we're going to need to plug in later:\n",
    "def y_prime(t, y):\n",
    "    return sin(y)/(1+t)\n",
    "\n",
    "def y_true(t):\n",
    "    cot_half = 1/tan(.5)\n",
    "    return 2*atan((t + 1)/cot_half)\n",
    "\n",
    "#This one is for backwards Euler only\n",
    "def y_prime_dy(t, y):\n",
    "    return cos(y)/(1+t)\n",
    "\n",
    "#Short hand method for finding error\n",
    "def max_error( ts, ys ):\n",
    "    return max([ abs(y_true(t)-y) for t, y in zip(ts, ys)])\n",
    "\n",
    "# as a little trick, we can define our methods as maps from names to functions \n",
    "# that are already prepopulated with most of the data. This makes evaluation\n",
    "# of every function easier to loop later. \n",
    "def get_methods(a, b):\n",
    "    return {\n",
    "        \"FE \": (lambda ittr_count: \n",
    "                forward_euler( y_prime, a, b, 1, ittr_count)),\n",
    "        \"RK4\": (lambda ittr_count: \n",
    "                RK4( y_prime, a, b, 1, ittr_count)),\n",
    "        \"BE \": (lambda ittr_count: \n",
    "                backward_euler( y_prime, y_prime_dy, a, b, 1, ittr_count))\n",
    "    }"
   ]
  },
  {
   "cell_type": "markdown",
   "metadata": {},
   "source": [
    "### 4 a, b, and c"
   ]
  },
  {
   "cell_type": "code",
   "execution_count": 8,
   "metadata": {},
   "outputs": [
    {
     "name": "stdout",
     "output_type": "stream",
     "text": [
      "Error at 500 ittrs for method FE  is 0.010659661546484678\n",
      "Error at 500 ittrs for method RK4 is 5.279037207372994e-10\n",
      "Error at 500 ittrs for method BE  is 0.010593098515223165\n",
      "Error at 1000 ittrs for method FE  is 0.005321602711385598\n",
      "Error at 1000 ittrs for method RK4 is 3.455902231053187e-11\n",
      "Error at 1000 ittrs for method BE  is 0.005305015170636196\n",
      "Error at 2000 ittrs for method FE  is 0.0026587485869593586\n",
      "Error at 2000 ittrs for method RK4 is 2.2086776851892864e-12\n",
      "Error at 2000 ittrs for method BE  is 0.0026545956748784683\n"
     ]
    }
   ],
   "source": [
    "methods = get_methods(0,20)\n",
    "\n",
    "for ittr_count in [500, 1000, 2000]:\n",
    "    for m in methods:\n",
    "        ts, ys = methods[m](ittr_count)\n",
    "        print( \"Error at {} ittrs for method {} is {}\".\n",
    "              format(ittr_count, m, max_error(ts, ys)))"
   ]
  },
  {
   "cell_type": "markdown",
   "metadata": {},
   "source": [
    "### 4 d"
   ]
  },
  {
   "cell_type": "code",
   "execution_count": 9,
   "metadata": {},
   "outputs": [
    {
     "name": "stdout",
     "output_type": "stream",
     "text": [
      "Rate of convergence for method FE  is 1.001113447359553\n",
      "Rate of convergence for method RK4 is 3.9678075985598333\n",
      "Rate of convergence for method BE  is 0.9988647378950698\n"
     ]
    }
   ],
   "source": [
    "methods = get_methods(0,20)\n",
    "\n",
    "for m in methods:\n",
    "    ts1, ys1 = methods[m](1000)\n",
    "    e1000 = max_error( ts1, ys1 )\n",
    "    ts2, ys2 = methods[m](2000)\n",
    "    e2000 = max_error( ts2, ys2 )\n",
    "    cvgnc = log(e1000/ e2000) / log( (20/1000) / (20/2000) )\n",
    "    print( \"Rate of convergence for method {} is {}\".\n",
    "            format( m, cvgnc))"
   ]
  },
  {
   "cell_type": "markdown",
   "metadata": {},
   "source": [
    "### 4 e\n",
    "\n",
    "Yes. These rates of convergence confirm our theoretical analysis. For both FE and BE, the rate is very close to 1, as expected, while for RK4, it is almost exactly 4. "
   ]
  },
  {
   "cell_type": "markdown",
   "metadata": {},
   "source": [
    "## Problem 5"
   ]
  },
  {
   "cell_type": "code",
   "execution_count": 22,
   "metadata": {},
   "outputs": [
    {
     "data": {
      "image/png": "[encoded data removed]",
      "text/plain": [
       "<matplotlib.figure.Figure at 0x1060b8d30>"
      ]
     },
     "metadata": {},
     "output_type": "display_data"
    }
   ],
   "source": [
    "long_term_methods = get_methods(0, 5000)\n",
    "\n",
    "colors = {\n",
    "    \"FE \": 'b-',\n",
    "    \"RK4\": 'y-',\n",
    "    \"BE \": 'g-'\n",
    "}\n",
    "\n",
    "\n",
    "for m in methods:\n",
    "    ts, ys = long_term_methods[m](100)\n",
    "    plt.plot(ts, ys, colors[m], label = m)\n",
    "\n",
    "ts = range(0, 5000)\n",
    "ys = [y_true(t) for t in ts]\n",
    "plt.plot(ts, ys, 'r-', label = \"Truth\")\n",
    "plt.legend()\n",
    "\n",
    "plt.show()"
   ]
  },
  {
   "cell_type": "markdown",
   "metadata": {},
   "source": [
    "In this case, BE is the best approximation. This is because BE is an A-stable method, unlike RK4 or FE. For those methods, the relativly large h means that we no longer fall within the zone of stability for the function. "
   ]
  }
 ],
 "metadata": {
  "kernelspec": {
   "display_name": "Python 3",
   "language": "python",
   "name": "python3"
  },
  "language_info": {
   "codemirror_mode": {
    "name": "ipython",
    "version": 3
   },
   "file_extension": ".py",
   "mimetype": "text/x-python",
   "name": "python",
   "nbconvert_exporter": "python",
   "pygments_lexer": "ipython3",
   "version": "3.5.0"
  }
 },
 "nbformat": 4,
 "nbformat_minor": 2
}
