{
 "cells": [
  {
   "cell_type": "code",
   "execution_count": 1,
   "metadata": {},
   "outputs": [],
   "source": [
    "# Just to get started on the notebook, let's bring in numpy\n",
    "import numpy as np"
   ]
  },
  {
   "cell_type": "markdown",
   "metadata": {},
   "source": [
    "### Problem 1"
   ]
  },
  {
   "cell_type": "code",
   "execution_count": 2,
   "metadata": {},
   "outputs": [],
   "source": [
    "# We first define a python generator that returns the bounds for the next guess.\n",
    "def bisection_guesses( f, a, b ):\n",
    "    while True:\n",
    "        midpoint = (a+b)/2\n",
    "        #If the sign of the midpoint is the same as the sign of f(a), then update b\n",
    "        if np.sign( f(midpoint) ) != np.sign( f(a) ):\n",
    "            b = midpoint\n",
    "        #Otherwise, update a\n",
    "        else:\n",
    "            a = midpoint\n",
    "        #yield the next guess and wait for the next call. \n",
    "        yield (a,b)"
   ]
  },
  {
   "cell_type": "code",
   "execution_count": 3,
   "metadata": {},
   "outputs": [],
   "source": [
    "# Because we defined the bisector generator above, this function just needs to do 3 things: \n",
    "# 1 - validate input\n",
    "# 2 - provide an exit condition\n",
    "# 3 - ouput results\n",
    "def bisection_method( f, a, b, tol=1.0e-5, ittr_max=100):\n",
    "    if( f(a) * f(b) > 0):\n",
    "        print(\"You useless nincompoop! That's not a valid interval!\")\n",
    "    bis = bisection_guesses( f, a, b)\n",
    "    ittr_count = 0\n",
    "    while np.abs(a - b) > tol and ittr_count < ittr_max:\n",
    "       a, b = next(bis)\n",
    "       ittr_count += 1\n",
    "    root = (a + b) / 2\n",
    "    print( \"Root is {}. Took {} iterations, resulting in an error of {}\"\n",
    "          .format( a, ittr_count, b-a ) )\n",
    "    return (a + b) / 2"
   ]
  },
  {
   "cell_type": "markdown",
   "metadata": {},
   "source": [
    "### Problem 2"
   ]
  },
  {
   "cell_type": "code",
   "execution_count": 4,
   "metadata": {},
   "outputs": [
    {
     "name": "stdout",
     "output_type": "stream",
     "text": [
      "Root is 7.389056086540222. Took 25 iterations, resulting in an error of 5.960464477539063e-08\n"
     ]
    },
    {
     "data": {
      "text/plain": [
       "7.3890561163425446"
      ]
     },
     "execution_count": 4,
     "metadata": {},
     "output_type": "execute_result"
    }
   ],
   "source": [
    "f = lambda x: np.log(x) - 2\n",
    "bisection_method( f , 6, 8, tol=1e-7, ittr_max=200)"
   ]
  },
  {
   "cell_type": "markdown",
   "metadata": {},
   "source": [
    "### Problem 3"
   ]
  },
  {
   "cell_type": "code",
   "execution_count": 5,
   "metadata": {},
   "outputs": [],
   "source": [
    "#Just like in 1, we first define a generator. \n",
    "def newtons_guesses( f, f_prime, x0 ):\n",
    "    current_x = x0;\n",
    "    while True:\n",
    "        yield current_x\n",
    "        next_x = current_x - (f(current_x) / f_prime(current_x))\n",
    "        current_x = next_x"
   ]
  },
  {
   "cell_type": "code",
   "execution_count": 6,
   "metadata": {},
   "outputs": [],
   "source": [
    "# And then a function that consumes guesses from that \n",
    "# generator and provides a nice (although far from kind) \n",
    "# user experience.\n",
    "def newtons_method( f, f_prime, x0, tol=1.0e-5, ittr_max=100 ):\n",
    "    guesses = newtons_guesses( f, f_prime, x0 )\n",
    "    ittr_count = 1\n",
    "    current_guess = next(guesses) # it yields x0 first\n",
    "    next_guess = next(guesses)\n",
    "    while np.abs(next_guess - current_guess) > tol and ittr_count < ittr_max:\n",
    "        current_guess = next_guess\n",
    "        next_guess = next(guesses)\n",
    "        ittr_count += 1\n",
    "    print( \"Root is {}. Took {} iterations, resulting in an error of {}\"\n",
    "          .format( next_guess, ittr_count, next_guess - current_guess ) )\n",
    "    return next_guess"
   ]
  },
  {
   "cell_type": "markdown",
   "metadata": {},
   "source": [
    "### Problem 4"
   ]
  },
  {
   "cell_type": "code",
   "execution_count": 7,
   "metadata": {},
   "outputs": [
    {
     "name": "stdout",
     "output_type": "stream",
     "text": [
      "Root is 7.38905609893065. Took 5 iterations, resulting in an error of 1.7763568394002505e-15\n"
     ]
    },
    {
     "data": {
      "text/plain": [
       "7.3890560989306504"
      ]
     },
     "execution_count": 7,
     "metadata": {},
     "output_type": "execute_result"
    }
   ],
   "source": [
    "f = lambda x: np.log(x) - 2\n",
    "f_prime = lambda x: 1/x\n",
    "newtons_method( f, f_prime, 6, tol=1e-7, ittr_max=200)"
   ]
  },
  {
   "cell_type": "markdown",
   "metadata": {},
   "source": [
    "### Problem 5"
   ]
  },
  {
   "cell_type": "code",
   "execution_count": 8,
   "metadata": {},
   "outputs": [],
   "source": [
    "#Helper methods + variables for question 5\n",
    "def tan(x):\n",
    "    return np.tan(x)\n",
    "\n",
    "def tan_p(x):\n",
    "    return 1 / ( np.cos(x) ** 2 )\n",
    "\n",
    "bottom = 63 * np.pi / 2\n",
    "top = 65 * np.pi / 2"
   ]
  },
  {
   "cell_type": "markdown",
   "metadata": {},
   "source": [
    "#### Problem 5.a)"
   ]
  },
  {
   "cell_type": "code",
   "execution_count": 9,
   "metadata": {},
   "outputs": [
    {
     "name": "stdout",
     "output_type": "stream",
     "text": [
      "Root is 100.53096491487338. Took 4 iterations, resulting in an error of 1.1603162874962436e-10\n",
      "Root is 100.53096491487338. Took 4 iterations, resulting in an error of -4.575895218295045e-12\n",
      "Root is 100.53096491487338. Took 8 iterations, resulting in an error of 0.0\n"
     ]
    },
    {
     "data": {
      "text/plain": [
       "100.53096491487338"
      ]
     },
     "execution_count": 9,
     "metadata": {},
     "output_type": "execute_result"
    }
   ],
   "source": [
    "newtons_method(tan, tan_p, 100, tol = 1e-7, ittr_max = 20)\n",
    "newtons_method(tan, tan_p, 101, tol = 1e-7, ittr_max = 20)\n",
    "newtons_method(tan, tan_p, 102, tol = 1e-7, ittr_max = 20)"
   ]
  },
  {
   "cell_type": "markdown",
   "metadata": {},
   "source": [
    "In each case it seems to find the answer after only a small number of iterations, though the number increases quite a bit as we move further from the 'true' answer. "
   ]
  },
  {
   "cell_type": "markdown",
   "metadata": {},
   "source": [
    "#### Problem 5.b)"
   ]
  },
  {
   "cell_type": "code",
   "execution_count": 10,
   "metadata": {},
   "outputs": [
    {
     "name": "stdout",
     "output_type": "stream",
     "text": [
      "With k=0 (delta=1), we search from x in [99.96016858807849, 101.10176124166827] (so tan(x) in [-0.6420926159343285, 0.6420926159343175])\n",
      "Root is 100.53096491487338. Took 27 iterations, resulting in an error of 8.505523396706849e-09\n",
      "Root is 100.53096491487338. Took 4 iterations, resulting in an error of 7.537153123848839e-10\n",
      "With k=1 (delta=0.1), we search from x in [99.06016858807848, 102.00176124166828] (so tan(x) in [-9.96664442325966, 9.966644423258874])\n",
      "Root is 100.53096491487338. Took 29 iterations, resulting in an error of 5.4791371439932846e-09\n",
      "Root is 100.53096491487338. Took 8 iterations, resulting in an error of 0.0\n",
      "With k=2 (delta=0.01), we search from x in [98.9701685880785, 102.09176124166827] (so tan(x) in [-99.99666664437837, 99.99666664429998])\n",
      "Root is 100.53096491487338. Took 29 iterations, resulting in an error of 5.814428050143761e-09\n",
      "Root is 100.53096491487338. Took 11 iterations, resulting in an error of 1.318767317570746e-11\n",
      "With k=3 (delta=0.001), we search from x in [98.9611685880785, 102.10076124166827] (so tan(x) in [-999.9996666603981, 999.9996666525604])\n",
      "Root is 100.53096491487338. Took 29 iterations, resulting in an error of 5.847951456416922e-09\n",
      "Root is 100.53096491487338. Took 15 iterations, resulting in an error of 0.0\n",
      "With k=4 (delta=0.0001), we search from x in [98.96026858807849, 102.10166124166827] (so tan(x) in [-9999.999966187557, 9999.999965403784])\n",
      "Root is 100.53096491487338. Took 29 iterations, resulting in an error of 5.851291007274995e-09\n",
      "Root is 100.53096491487338. Took 18 iterations, resulting in an error of 0.0\n",
      "With k=5 (delta=1e-05), we search from x in [98.96017858807849, 102.10175124166827] (so tan(x) in [-99999.99995021097, 99999.99987183357])\n",
      "Root is 100.53096491487338. Took 29 iterations, resulting in an error of 5.8516320677881595e-09\n",
      "Root is 100.53096491487338. Took 21 iterations, resulting in an error of 5.016431714466307e-12\n",
      "With k=6 (delta=1e-06), we search from x in [98.96016958807849, 102.10176024166827] (so tan(x) in [-1000000.0010529909, 999999.9932152512])\n",
      "Root is 100.53096491487338. Took 29 iterations, resulting in an error of 5.85166048949759e-09\n",
      "Root is 100.53096491487338. Took 25 iterations, resulting in an error of 0.0\n",
      "With k=7 (delta=1e-07), we search from x in [98.96016868807848, 102.10176114166828] (so tan(x) in [-10000000.446538439, 9999999.662764478])\n",
      "Root is 100.53096491487338. Took 29 iterations, resulting in an error of 5.851674700352305e-09\n",
      "Root is 100.53096491487338. Took 28 iterations, resulting in an error of 0.0\n",
      "With k=8 (delta=1e-08), we search from x in [98.96016859807848, 102.10176123166828] (so tan(x) in [-100000048.06592856, 99999969.68851951])\n",
      "Root is 100.53096491487338. Took 29 iterations, resulting in an error of 5.851674700352305e-09\n",
      "Root is 98.96016860807848. Took 1 iterations, resulting in an error of 9.999993721976352e-09\n",
      "With k=9 (delta=1e-09), we search from x in [98.96016858907849, 102.10176124066827] (so tan(x) in [-999994893.1389295, 999987055.5408959])\n",
      "Root is 100.53096491487338. Took 29 iterations, resulting in an error of 5.851674700352305e-09\n",
      "Root is 98.9601685900785. Took 1 iterations, resulting in an error of 1.0000036354540498e-09\n"
     ]
    }
   ],
   "source": [
    "for k in range(10):\n",
    "    delta = 10 ** (-1 * k)\n",
    "    print( \"With k={} (delta={}), we search from x in [{}, {}] (so tan(x) in [{}, {}])\"\n",
    "          .format( k, delta, bottom + delta, top - delta, tan( bottom + delta), tan( top - delta )) )\n",
    "    bisection_method( tan, bottom + delta, top - delta, tol = 1e-8)\n",
    "    newtons_method( tan, tan_p, bottom + delta, tol = 1e-8 )"
   ]
  },
  {
   "cell_type": "markdown",
   "metadata": {},
   "source": [
    "I might be missunderstanding the question, but if all that it's asking is what the smallest natural number k is such that `bottom + 10 ** (-1 * k)` to `top - 10 ** (-1 * k)` is a valid range for the bisection method, then I think the correct answer must be `k = 0` so `delta = 1`. As demonstrated above, this searches beteween `a = 99.960` and `b = 101.102`, which implies `tan(a) = -0.642` and `tan(b) = 0.642`, which is valid for the bisection method since `tan(a) * tan(b) < 0`.\n",
    "\n",
    "I added in the newtons method results for comparison. Note that at `k >= 8`, this method fails to converge to the true answer.  "
   ]
  },
  {
   "cell_type": "markdown",
   "metadata": {},
   "source": [
    "#### Problem 5.c)"
   ]
  },
  {
   "cell_type": "code",
   "execution_count": 11,
   "metadata": {},
   "outputs": [
    {
     "name": "stdout",
     "output_type": "stream",
     "text": [
      "j=1\n",
      "Root is 100.53096491487338. Took 4 iterations, resulting in an error of 0.0713495408493543\n",
      "Root is 100.53096491487338. Took 3 iterations, resulting in an error of -2.842170943040401e-14\n",
      "j=2\n",
      "Root is 100.53096491487338. Took 7 iterations, resulting in an error of 0.00891869260617284\n",
      "Root is 100.53096491487338. Took 3 iterations, resulting in an error of 0.0\n",
      "j=3\n",
      "Root is 100.53096491487338. Took 11 iterations, resulting in an error of 0.000557418287883138\n",
      "Root is 100.53096491487338. Took 2 iterations, resulting in an error of -1.4438228390645236e-11\n",
      "j=4\n",
      "Root is 100.53096491487338. Took 14 iterations, resulting in an error of 6.967728597828682e-05\n",
      "Root is 100.53096491487338. Took 2 iterations, resulting in an error of -2.842170943040401e-14\n",
      "j=5\n",
      "Root is 100.53096491487338. Took 17 iterations, resulting in an error of 8.709660747285852e-06\n",
      "Root is 100.53096491487338. Took 2 iterations, resulting in an error of 0.0\n"
     ]
    }
   ],
   "source": [
    "# Using k = 0 => delta = 1. \n",
    "for j in range(1, 6): # from 1 to 5 inclusive\n",
    "    print( \"j={}\".format( j ) )\n",
    "    # Solve the bisection problem.\n",
    "    bisection_guess = bisection_method( tan, bottom + 1, top - 1, tol = 10 ** (-1 * j) ) \n",
    "    # And plug it into Newtons method. \n",
    "    newtons_guess = newtons_method( tan, tan_p, bisection_guess, tol = 1e-8 )"
   ]
  },
  {
   "cell_type": "markdown",
   "metadata": {},
   "source": [
    "In each case, Newton's method converged to the true answer."
   ]
  },
  {
   "cell_type": "markdown",
   "metadata": {},
   "source": [
    "#### Problem 5.d)"
   ]
  },
  {
   "cell_type": "code",
   "execution_count": 12,
   "metadata": {},
   "outputs": [
    {
     "data": {
      "text/plain": [
       "matrix([[  5.62975],\n",
       "        [  7.51825],\n",
       "        [  8.999  ],\n",
       "        [ 10.8875 ],\n",
       "        [ 12.776  ]])"
      ]
     },
     "execution_count": 12,
     "metadata": {},
     "output_type": "execute_result"
    }
   ],
   "source": [
    "times = np.matrix( '0.6295; 1.03725' ) # The given times\n",
    "counts = np.matrix( '4 3; 7 3; 11 2; 14 2; 17 2' ) # The iteration counts from the last question\n",
    "counts * times # Matrix multiplication is always the best way to do it. "
   ]
  },
  {
   "cell_type": "markdown",
   "metadata": {},
   "source": [
    "Even though Newton's takes longer per iteration, it's still faster than the bisection method due to its quadratic convergence. Thus, j = 1 is the fastest, at just 5.62 ms.  "
   ]
  }
 ],
 "metadata": {
  "kernelspec": {
   "display_name": "Python 3",
   "language": "python",
   "name": "python3"
  },
  "language_info": {
   "codemirror_mode": {
    "name": "ipython",
    "version": 3
   },
   "file_extension": ".py",
   "mimetype": "text/x-python",
   "name": "python",
   "nbconvert_exporter": "python",
   "pygments_lexer": "ipython3",
   "version": "3.5.0"
  }
 },
 "nbformat": 4,
 "nbformat_minor": 2
}
